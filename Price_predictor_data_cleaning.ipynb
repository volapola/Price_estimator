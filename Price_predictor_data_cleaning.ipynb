{
 "cells": [
  {
   "cell_type": "code",
   "execution_count": null,
   "id": "19fe1910",
   "metadata": {},
   "outputs": [],
   "source": []
  },
  {
   "cell_type": "code",
   "execution_count": null,
   "id": "a07ccf8d",
   "metadata": {},
   "outputs": [],
   "source": []
  },
  {
   "cell_type": "code",
   "execution_count": 1,
   "id": "6053fb9e",
   "metadata": {},
   "outputs": [],
   "source": [
    "### data cleaning"
   ]
  },
  {
   "cell_type": "code",
   "execution_count": 3,
   "id": "35986f91",
   "metadata": {},
   "outputs": [],
   "source": [
    "import dill\n",
    "with open('gaming_raw.pkd', 'rb') as f:\n",
    "    gaming_raw = dill.load(f)"
   ]
  },
  {
   "cell_type": "code",
   "execution_count": 4,
   "id": "1dd0d236",
   "metadata": {},
   "outputs": [],
   "source": [
    "asin_game = []"
   ]
  },
  {
   "cell_type": "code",
   "execution_count": 5,
   "id": "d3b80016",
   "metadata": {},
   "outputs": [],
   "source": [
    "def get_asin_game():\n",
    "    for asin in gaming_raw:\n",
    "        asin_list = asin['asin']\n",
    "        asin_game.append(asin_list)"
   ]
  },
  {
   "cell_type": "code",
   "execution_count": 6,
   "id": "e45c23f3",
   "metadata": {},
   "outputs": [],
   "source": [
    "get_asin_game()"
   ]
  },
  {
   "cell_type": "code",
   "execution_count": 7,
   "id": "7a2defae",
   "metadata": {},
   "outputs": [
    {
     "data": {
      "text/plain": [
       "'B00ETM09LK'"
      ]
     },
     "execution_count": 7,
     "metadata": {},
     "output_type": "execute_result"
    }
   ],
   "source": [
    "asin_game[0]"
   ]
  },
  {
   "cell_type": "code",
   "execution_count": null,
   "id": "f91d0492",
   "metadata": {},
   "outputs": [],
   "source": [
    "###for date&price"
   ]
  },
  {
   "cell_type": "code",
   "execution_count": 8,
   "id": "495509e2",
   "metadata": {},
   "outputs": [],
   "source": [
    "data_gaming = []"
   ]
  },
  {
   "cell_type": "code",
   "execution_count": 9,
   "id": "8ffcdf8e",
   "metadata": {},
   "outputs": [],
   "source": [
    "def get_data_game():\n",
    "    for data in gaming_raw:\n",
    "        data_list = data['data']\n",
    "        data_gaming.append(data_list)"
   ]
  },
  {
   "cell_type": "code",
   "execution_count": 10,
   "id": "e95beadd",
   "metadata": {},
   "outputs": [],
   "source": [
    "get_data_game()"
   ]
  },
  {
   "cell_type": "code",
   "execution_count": null,
   "id": "af266873",
   "metadata": {},
   "outputs": [],
   "source": [
    "#price from data"
   ]
  },
  {
   "cell_type": "code",
   "execution_count": 17,
   "id": "738b3ddf",
   "metadata": {},
   "outputs": [],
   "source": [
    "price_game = []"
   ]
  },
  {
   "cell_type": "code",
   "execution_count": 18,
   "id": "b22b9d46",
   "metadata": {},
   "outputs": [],
   "source": [
    "def get_price_game():\n",
    "    for new in data_gaming:\n",
    "        new_list = new['NEW']\n",
    "        price_game.append(new_list)"
   ]
  },
  {
   "cell_type": "code",
   "execution_count": 19,
   "id": "eb978ac0",
   "metadata": {},
   "outputs": [],
   "source": [
    "get_price_game()"
   ]
  },
  {
   "cell_type": "code",
   "execution_count": null,
   "id": "ee65163c",
   "metadata": {},
   "outputs": [],
   "source": [
    "##Date from data"
   ]
  },
  {
   "cell_type": "code",
   "execution_count": 21,
   "id": "b8d66938",
   "metadata": {},
   "outputs": [],
   "source": [
    "date_game = []"
   ]
  },
  {
   "cell_type": "code",
   "execution_count": 24,
   "id": "a410136d",
   "metadata": {},
   "outputs": [],
   "source": [
    "def get_date_game():\n",
    "    for date in data_gaming:\n",
    "        date_list = date['NEW_time']\n",
    "        date_game.append(date_list)"
   ]
  },
  {
   "cell_type": "code",
   "execution_count": 25,
   "id": "11448779",
   "metadata": {},
   "outputs": [],
   "source": [
    "get_date_game()"
   ]
  },
  {
   "cell_type": "code",
   "execution_count": null,
   "id": "740d818c",
   "metadata": {},
   "outputs": [],
   "source": [
    "##zippin asin & date"
   ]
  },
  {
   "cell_type": "code",
   "execution_count": 26,
   "id": "4dce4a77",
   "metadata": {},
   "outputs": [],
   "source": [
    "game_dict_date = dict(zip(asin_game, date_game))"
   ]
  },
  {
   "cell_type": "code",
   "execution_count": null,
   "id": "22007ce5",
   "metadata": {},
   "outputs": [],
   "source": [
    "##zipping asin & price "
   ]
  },
  {
   "cell_type": "code",
   "execution_count": 27,
   "id": "c2fa8119",
   "metadata": {},
   "outputs": [],
   "source": [
    "game_dict_price = dict(zip(asin_game, price_game))"
   ]
  },
  {
   "cell_type": "code",
   "execution_count": null,
   "id": "e33c862d",
   "metadata": {},
   "outputs": [],
   "source": [
    "##to pandas ASIn amd price "
   ]
  },
  {
   "cell_type": "code",
   "execution_count": 28,
   "id": "d6736797",
   "metadata": {},
   "outputs": [],
   "source": [
    "import pandas as pd"
   ]
  },
  {
   "cell_type": "code",
   "execution_count": 29,
   "id": "337e527e",
   "metadata": {},
   "outputs": [],
   "source": [
    "df_price_game = pd.DataFrame( [[k,ele] for k,v in game_dict_price.items() for ele in v ])"
   ]
  },
  {
   "cell_type": "code",
   "execution_count": null,
   "id": "ea330399",
   "metadata": {},
   "outputs": [],
   "source": [
    "##to pandas ASIn amd date "
   ]
  },
  {
   "cell_type": "code",
   "execution_count": 30,
   "id": "a5e1067b",
   "metadata": {},
   "outputs": [],
   "source": [
    "df_date_game = pd.DataFrame( [[k,ele] for k,v in game_dict_date.items() for ele in v ])"
   ]
  },
  {
   "cell_type": "code",
   "execution_count": null,
   "id": "099cc56d",
   "metadata": {},
   "outputs": [],
   "source": [
    "###mergin two df"
   ]
  },
  {
   "cell_type": "code",
   "execution_count": 31,
   "id": "70e48e65",
   "metadata": {},
   "outputs": [],
   "source": [
    "df_game = pd.concat([df_date_game, df_price_game], axis=1)"
   ]
  },
  {
   "cell_type": "code",
   "execution_count": 32,
   "id": "8334275c",
   "metadata": {},
   "outputs": [
    {
     "data": {
      "text/html": [
       "<div>\n",
       "<style scoped>\n",
       "    .dataframe tbody tr th:only-of-type {\n",
       "        vertical-align: middle;\n",
       "    }\n",
       "\n",
       "    .dataframe tbody tr th {\n",
       "        vertical-align: top;\n",
       "    }\n",
       "\n",
       "    .dataframe thead th {\n",
       "        text-align: right;\n",
       "    }\n",
       "</style>\n",
       "<table border=\"1\" class=\"dataframe\">\n",
       "  <thead>\n",
       "    <tr style=\"text-align: right;\">\n",
       "      <th></th>\n",
       "      <th>0</th>\n",
       "      <th>1</th>\n",
       "      <th>0</th>\n",
       "      <th>1</th>\n",
       "    </tr>\n",
       "  </thead>\n",
       "  <tbody>\n",
       "    <tr>\n",
       "      <th>0</th>\n",
       "      <td>B00ETM09LK</td>\n",
       "      <td>2015-06-25 03:51:00</td>\n",
       "      <td>B00ETM09LK</td>\n",
       "      <td>999.99</td>\n",
       "    </tr>\n",
       "    <tr>\n",
       "      <th>1</th>\n",
       "      <td>B00ETM09LK</td>\n",
       "      <td>2015-06-26 05:11:00</td>\n",
       "      <td>B00ETM09LK</td>\n",
       "      <td>999.00</td>\n",
       "    </tr>\n",
       "    <tr>\n",
       "      <th>2</th>\n",
       "      <td>B00ETM09LK</td>\n",
       "      <td>2015-07-15 03:05:00</td>\n",
       "      <td>B00ETM09LK</td>\n",
       "      <td>998.99</td>\n",
       "    </tr>\n",
       "    <tr>\n",
       "      <th>3</th>\n",
       "      <td>B00ETM09LK</td>\n",
       "      <td>2015-08-16 10:02:00</td>\n",
       "      <td>B00ETM09LK</td>\n",
       "      <td>998.49</td>\n",
       "    </tr>\n",
       "    <tr>\n",
       "      <th>4</th>\n",
       "      <td>B00ETM09LK</td>\n",
       "      <td>2015-08-17 02:35:00</td>\n",
       "      <td>B00ETM09LK</td>\n",
       "      <td>998.19</td>\n",
       "    </tr>\n",
       "  </tbody>\n",
       "</table>\n",
       "</div>"
      ],
      "text/plain": [
       "            0                   1           0       1\n",
       "0  B00ETM09LK 2015-06-25 03:51:00  B00ETM09LK  999.99\n",
       "1  B00ETM09LK 2015-06-26 05:11:00  B00ETM09LK  999.00\n",
       "2  B00ETM09LK 2015-07-15 03:05:00  B00ETM09LK  998.99\n",
       "3  B00ETM09LK 2015-08-16 10:02:00  B00ETM09LK  998.49\n",
       "4  B00ETM09LK 2015-08-17 02:35:00  B00ETM09LK  998.19"
      ]
     },
     "execution_count": 32,
     "metadata": {},
     "output_type": "execute_result"
    }
   ],
   "source": [
    "df_game.head()"
   ]
  },
  {
   "cell_type": "code",
   "execution_count": 33,
   "id": "53583f11",
   "metadata": {},
   "outputs": [],
   "source": [
    "df_game.columns = ['ASIN', 'Date', 'Del', 'Price']"
   ]
  },
  {
   "cell_type": "code",
   "execution_count": 34,
   "id": "06808ad0",
   "metadata": {},
   "outputs": [
    {
     "data": {
      "text/html": [
       "<div>\n",
       "<style scoped>\n",
       "    .dataframe tbody tr th:only-of-type {\n",
       "        vertical-align: middle;\n",
       "    }\n",
       "\n",
       "    .dataframe tbody tr th {\n",
       "        vertical-align: top;\n",
       "    }\n",
       "\n",
       "    .dataframe thead th {\n",
       "        text-align: right;\n",
       "    }\n",
       "</style>\n",
       "<table border=\"1\" class=\"dataframe\">\n",
       "  <thead>\n",
       "    <tr style=\"text-align: right;\">\n",
       "      <th></th>\n",
       "      <th>ASIN</th>\n",
       "      <th>Date</th>\n",
       "      <th>Del</th>\n",
       "      <th>Price</th>\n",
       "    </tr>\n",
       "  </thead>\n",
       "  <tbody>\n",
       "    <tr>\n",
       "      <th>0</th>\n",
       "      <td>B00ETM09LK</td>\n",
       "      <td>2015-06-25 03:51:00</td>\n",
       "      <td>B00ETM09LK</td>\n",
       "      <td>999.99</td>\n",
       "    </tr>\n",
       "    <tr>\n",
       "      <th>1</th>\n",
       "      <td>B00ETM09LK</td>\n",
       "      <td>2015-06-26 05:11:00</td>\n",
       "      <td>B00ETM09LK</td>\n",
       "      <td>999.00</td>\n",
       "    </tr>\n",
       "    <tr>\n",
       "      <th>2</th>\n",
       "      <td>B00ETM09LK</td>\n",
       "      <td>2015-07-15 03:05:00</td>\n",
       "      <td>B00ETM09LK</td>\n",
       "      <td>998.99</td>\n",
       "    </tr>\n",
       "    <tr>\n",
       "      <th>3</th>\n",
       "      <td>B00ETM09LK</td>\n",
       "      <td>2015-08-16 10:02:00</td>\n",
       "      <td>B00ETM09LK</td>\n",
       "      <td>998.49</td>\n",
       "    </tr>\n",
       "    <tr>\n",
       "      <th>4</th>\n",
       "      <td>B00ETM09LK</td>\n",
       "      <td>2015-08-17 02:35:00</td>\n",
       "      <td>B00ETM09LK</td>\n",
       "      <td>998.19</td>\n",
       "    </tr>\n",
       "  </tbody>\n",
       "</table>\n",
       "</div>"
      ],
      "text/plain": [
       "         ASIN                Date         Del   Price\n",
       "0  B00ETM09LK 2015-06-25 03:51:00  B00ETM09LK  999.99\n",
       "1  B00ETM09LK 2015-06-26 05:11:00  B00ETM09LK  999.00\n",
       "2  B00ETM09LK 2015-07-15 03:05:00  B00ETM09LK  998.99\n",
       "3  B00ETM09LK 2015-08-16 10:02:00  B00ETM09LK  998.49\n",
       "4  B00ETM09LK 2015-08-17 02:35:00  B00ETM09LK  998.19"
      ]
     },
     "execution_count": 34,
     "metadata": {},
     "output_type": "execute_result"
    }
   ],
   "source": [
    "df_game.head()"
   ]
  },
  {
   "cell_type": "code",
   "execution_count": 35,
   "id": "e6f2e5cd",
   "metadata": {},
   "outputs": [],
   "source": [
    "df_game.drop(['Del'], axis=1, inplace=True)"
   ]
  },
  {
   "cell_type": "code",
   "execution_count": 36,
   "id": "cc9511da",
   "metadata": {},
   "outputs": [
    {
     "data": {
      "text/html": [
       "<div>\n",
       "<style scoped>\n",
       "    .dataframe tbody tr th:only-of-type {\n",
       "        vertical-align: middle;\n",
       "    }\n",
       "\n",
       "    .dataframe tbody tr th {\n",
       "        vertical-align: top;\n",
       "    }\n",
       "\n",
       "    .dataframe thead th {\n",
       "        text-align: right;\n",
       "    }\n",
       "</style>\n",
       "<table border=\"1\" class=\"dataframe\">\n",
       "  <thead>\n",
       "    <tr style=\"text-align: right;\">\n",
       "      <th></th>\n",
       "      <th>ASIN</th>\n",
       "      <th>Date</th>\n",
       "      <th>Price</th>\n",
       "    </tr>\n",
       "  </thead>\n",
       "  <tbody>\n",
       "    <tr>\n",
       "      <th>0</th>\n",
       "      <td>B00ETM09LK</td>\n",
       "      <td>2015-06-25 03:51:00</td>\n",
       "      <td>999.99</td>\n",
       "    </tr>\n",
       "    <tr>\n",
       "      <th>1</th>\n",
       "      <td>B00ETM09LK</td>\n",
       "      <td>2015-06-26 05:11:00</td>\n",
       "      <td>999.00</td>\n",
       "    </tr>\n",
       "    <tr>\n",
       "      <th>2</th>\n",
       "      <td>B00ETM09LK</td>\n",
       "      <td>2015-07-15 03:05:00</td>\n",
       "      <td>998.99</td>\n",
       "    </tr>\n",
       "    <tr>\n",
       "      <th>3</th>\n",
       "      <td>B00ETM09LK</td>\n",
       "      <td>2015-08-16 10:02:00</td>\n",
       "      <td>998.49</td>\n",
       "    </tr>\n",
       "    <tr>\n",
       "      <th>4</th>\n",
       "      <td>B00ETM09LK</td>\n",
       "      <td>2015-08-17 02:35:00</td>\n",
       "      <td>998.19</td>\n",
       "    </tr>\n",
       "  </tbody>\n",
       "</table>\n",
       "</div>"
      ],
      "text/plain": [
       "         ASIN                Date   Price\n",
       "0  B00ETM09LK 2015-06-25 03:51:00  999.99\n",
       "1  B00ETM09LK 2015-06-26 05:11:00  999.00\n",
       "2  B00ETM09LK 2015-07-15 03:05:00  998.99\n",
       "3  B00ETM09LK 2015-08-16 10:02:00  998.49\n",
       "4  B00ETM09LK 2015-08-17 02:35:00  998.19"
      ]
     },
     "execution_count": 36,
     "metadata": {},
     "output_type": "execute_result"
    }
   ],
   "source": [
    "df_game.head()"
   ]
  },
  {
   "cell_type": "code",
   "execution_count": 174,
   "id": "160b642c",
   "metadata": {},
   "outputs": [
    {
     "data": {
      "text/html": [
       "<div>\n",
       "<style scoped>\n",
       "    .dataframe tbody tr th:only-of-type {\n",
       "        vertical-align: middle;\n",
       "    }\n",
       "\n",
       "    .dataframe tbody tr th {\n",
       "        vertical-align: top;\n",
       "    }\n",
       "\n",
       "    .dataframe thead th {\n",
       "        text-align: right;\n",
       "    }\n",
       "</style>\n",
       "<table border=\"1\" class=\"dataframe\">\n",
       "  <thead>\n",
       "    <tr style=\"text-align: right;\">\n",
       "      <th></th>\n",
       "      <th>ASIN</th>\n",
       "      <th>Date</th>\n",
       "      <th>Price</th>\n",
       "    </tr>\n",
       "  </thead>\n",
       "  <tbody>\n",
       "    <tr>\n",
       "      <th>0</th>\n",
       "      <td>B00ETM09LK</td>\n",
       "      <td>2015/06/25</td>\n",
       "      <td>999.99</td>\n",
       "    </tr>\n",
       "    <tr>\n",
       "      <th>1</th>\n",
       "      <td>B00ETM09LK</td>\n",
       "      <td>2015/06/26</td>\n",
       "      <td>999.00</td>\n",
       "    </tr>\n",
       "    <tr>\n",
       "      <th>2</th>\n",
       "      <td>B00ETM09LK</td>\n",
       "      <td>2015/07/15</td>\n",
       "      <td>998.99</td>\n",
       "    </tr>\n",
       "    <tr>\n",
       "      <th>3</th>\n",
       "      <td>B00ETM09LK</td>\n",
       "      <td>2015/08/16</td>\n",
       "      <td>998.49</td>\n",
       "    </tr>\n",
       "    <tr>\n",
       "      <th>4</th>\n",
       "      <td>B00ETM09LK</td>\n",
       "      <td>2015/08/17</td>\n",
       "      <td>998.19</td>\n",
       "    </tr>\n",
       "    <tr>\n",
       "      <th>...</th>\n",
       "      <td>...</td>\n",
       "      <td>...</td>\n",
       "      <td>...</td>\n",
       "    </tr>\n",
       "    <tr>\n",
       "      <th>264426</th>\n",
       "      <td>B0BNFWQ46H</td>\n",
       "      <td>2022/11/29</td>\n",
       "      <td>2499.00</td>\n",
       "    </tr>\n",
       "    <tr>\n",
       "      <th>264427</th>\n",
       "      <td>B0BNGPZ713</td>\n",
       "      <td>2022/11/29</td>\n",
       "      <td>1248.99</td>\n",
       "    </tr>\n",
       "    <tr>\n",
       "      <th>264428</th>\n",
       "      <td>B0BNH36TB1</td>\n",
       "      <td>2022/11/29</td>\n",
       "      <td>849.00</td>\n",
       "    </tr>\n",
       "    <tr>\n",
       "      <th>264429</th>\n",
       "      <td>B0BNH3YFHD</td>\n",
       "      <td>2022/11/29</td>\n",
       "      <td>949.00</td>\n",
       "    </tr>\n",
       "    <tr>\n",
       "      <th>264430</th>\n",
       "      <td>B0BNH4P4F5</td>\n",
       "      <td>2022/11/29</td>\n",
       "      <td>799.00</td>\n",
       "    </tr>\n",
       "  </tbody>\n",
       "</table>\n",
       "<p>264431 rows × 3 columns</p>\n",
       "</div>"
      ],
      "text/plain": [
       "              ASIN        Date    Price\n",
       "0       B00ETM09LK  2015/06/25   999.99\n",
       "1       B00ETM09LK  2015/06/26   999.00\n",
       "2       B00ETM09LK  2015/07/15   998.99\n",
       "3       B00ETM09LK  2015/08/16   998.49\n",
       "4       B00ETM09LK  2015/08/17   998.19\n",
       "...            ...         ...      ...\n",
       "264426  B0BNFWQ46H  2022/11/29  2499.00\n",
       "264427  B0BNGPZ713  2022/11/29  1248.99\n",
       "264428  B0BNH36TB1  2022/11/29   849.00\n",
       "264429  B0BNH3YFHD  2022/11/29   949.00\n",
       "264430  B0BNH4P4F5  2022/11/29   799.00\n",
       "\n",
       "[264431 rows x 3 columns]"
      ]
     },
     "execution_count": 174,
     "metadata": {},
     "output_type": "execute_result"
    }
   ],
   "source": [
    "df_game"
   ]
  },
  {
   "cell_type": "code",
   "execution_count": 175,
   "id": "5bdaff3a",
   "metadata": {},
   "outputs": [
    {
     "data": {
      "text/plain": [
       "ASIN     10000\n",
       "Date      2542\n",
       "Price    65691\n",
       "dtype: int64"
      ]
     },
     "execution_count": 175,
     "metadata": {},
     "output_type": "execute_result"
    }
   ],
   "source": [
    "df_game.nunique()"
   ]
  },
  {
   "cell_type": "code",
   "execution_count": 37,
   "id": "6f98e330",
   "metadata": {},
   "outputs": [],
   "source": [
    "import dill"
   ]
  },
  {
   "cell_type": "code",
   "execution_count": 38,
   "id": "41c46473",
   "metadata": {},
   "outputs": [],
   "source": [
    "\n",
    "with open('df_game.pkd', 'wb') as f:\n",
    "    dill.dump(df_game, f)"
   ]
  },
  {
   "cell_type": "code",
   "execution_count": 39,
   "id": "eee4b72a",
   "metadata": {},
   "outputs": [],
   "source": [
    "df_game['Date'] = df_game['Date'].dt.strftime('%Y/%m/%d')"
   ]
  },
  {
   "cell_type": "code",
   "execution_count": 40,
   "id": "86f7826f",
   "metadata": {},
   "outputs": [],
   "source": [
    "df_game_clean = df_game.groupby('ASIN').filter(lambda x: len(x) > 10)"
   ]
  },
  {
   "cell_type": "code",
   "execution_count": 42,
   "id": "2e019b3d",
   "metadata": {},
   "outputs": [
    {
     "data": {
      "text/html": [
       "<div>\n",
       "<style scoped>\n",
       "    .dataframe tbody tr th:only-of-type {\n",
       "        vertical-align: middle;\n",
       "    }\n",
       "\n",
       "    .dataframe tbody tr th {\n",
       "        vertical-align: top;\n",
       "    }\n",
       "\n",
       "    .dataframe thead th {\n",
       "        text-align: right;\n",
       "    }\n",
       "</style>\n",
       "<table border=\"1\" class=\"dataframe\">\n",
       "  <thead>\n",
       "    <tr style=\"text-align: right;\">\n",
       "      <th></th>\n",
       "      <th>ASIN</th>\n",
       "      <th>Date</th>\n",
       "      <th>Price</th>\n",
       "    </tr>\n",
       "  </thead>\n",
       "  <tbody>\n",
       "    <tr>\n",
       "      <th>263848</th>\n",
       "      <td>B0BLH4R831</td>\n",
       "      <td>2022/11/21</td>\n",
       "      <td>1019.79</td>\n",
       "    </tr>\n",
       "    <tr>\n",
       "      <th>263849</th>\n",
       "      <td>B0BLH4R831</td>\n",
       "      <td>2022/11/21</td>\n",
       "      <td>1015.79</td>\n",
       "    </tr>\n",
       "    <tr>\n",
       "      <th>263850</th>\n",
       "      <td>B0BLH4R831</td>\n",
       "      <td>2022/11/22</td>\n",
       "      <td>1009.79</td>\n",
       "    </tr>\n",
       "    <tr>\n",
       "      <th>263851</th>\n",
       "      <td>B0BLH4R831</td>\n",
       "      <td>2022/11/23</td>\n",
       "      <td>1005.79</td>\n",
       "    </tr>\n",
       "    <tr>\n",
       "      <th>263852</th>\n",
       "      <td>B0BLH4R831</td>\n",
       "      <td>2022/11/24</td>\n",
       "      <td>1269.00</td>\n",
       "    </tr>\n",
       "  </tbody>\n",
       "</table>\n",
       "</div>"
      ],
      "text/plain": [
       "              ASIN        Date    Price\n",
       "263848  B0BLH4R831  2022/11/21  1019.79\n",
       "263849  B0BLH4R831  2022/11/21  1015.79\n",
       "263850  B0BLH4R831  2022/11/22  1009.79\n",
       "263851  B0BLH4R831  2022/11/23  1005.79\n",
       "263852  B0BLH4R831  2022/11/24  1269.00"
      ]
     },
     "execution_count": 42,
     "metadata": {},
     "output_type": "execute_result"
    }
   ],
   "source": [
    "df_game_clean.tail()"
   ]
  },
  {
   "cell_type": "code",
   "execution_count": 43,
   "id": "a3cf56c0",
   "metadata": {},
   "outputs": [],
   "source": [
    "df_game_clean.reset_index(inplace=True)"
   ]
  },
  {
   "cell_type": "code",
   "execution_count": 44,
   "id": "7655a07f",
   "metadata": {},
   "outputs": [],
   "source": [
    "df_game_clean.drop('index', axis=1, inplace=True)"
   ]
  },
  {
   "cell_type": "code",
   "execution_count": 45,
   "id": "c7b83244",
   "metadata": {},
   "outputs": [
    {
     "data": {
      "text/html": [
       "<div>\n",
       "<style scoped>\n",
       "    .dataframe tbody tr th:only-of-type {\n",
       "        vertical-align: middle;\n",
       "    }\n",
       "\n",
       "    .dataframe tbody tr th {\n",
       "        vertical-align: top;\n",
       "    }\n",
       "\n",
       "    .dataframe thead th {\n",
       "        text-align: right;\n",
       "    }\n",
       "</style>\n",
       "<table border=\"1\" class=\"dataframe\">\n",
       "  <thead>\n",
       "    <tr style=\"text-align: right;\">\n",
       "      <th></th>\n",
       "      <th>ASIN</th>\n",
       "      <th>Date</th>\n",
       "      <th>Price</th>\n",
       "    </tr>\n",
       "  </thead>\n",
       "  <tbody>\n",
       "    <tr>\n",
       "      <th>0</th>\n",
       "      <td>B00ETM09LK</td>\n",
       "      <td>2015/06/25</td>\n",
       "      <td>999.99</td>\n",
       "    </tr>\n",
       "    <tr>\n",
       "      <th>1</th>\n",
       "      <td>B00ETM09LK</td>\n",
       "      <td>2015/06/26</td>\n",
       "      <td>999.00</td>\n",
       "    </tr>\n",
       "    <tr>\n",
       "      <th>2</th>\n",
       "      <td>B00ETM09LK</td>\n",
       "      <td>2015/07/15</td>\n",
       "      <td>998.99</td>\n",
       "    </tr>\n",
       "    <tr>\n",
       "      <th>3</th>\n",
       "      <td>B00ETM09LK</td>\n",
       "      <td>2015/08/16</td>\n",
       "      <td>998.49</td>\n",
       "    </tr>\n",
       "    <tr>\n",
       "      <th>4</th>\n",
       "      <td>B00ETM09LK</td>\n",
       "      <td>2015/08/17</td>\n",
       "      <td>998.19</td>\n",
       "    </tr>\n",
       "  </tbody>\n",
       "</table>\n",
       "</div>"
      ],
      "text/plain": [
       "         ASIN        Date   Price\n",
       "0  B00ETM09LK  2015/06/25  999.99\n",
       "1  B00ETM09LK  2015/06/26  999.00\n",
       "2  B00ETM09LK  2015/07/15  998.99\n",
       "3  B00ETM09LK  2015/08/16  998.49\n",
       "4  B00ETM09LK  2015/08/17  998.19"
      ]
     },
     "execution_count": 45,
     "metadata": {},
     "output_type": "execute_result"
    }
   ],
   "source": [
    "df_game_clean.head()"
   ]
  },
  {
   "cell_type": "code",
   "execution_count": 171,
   "id": "6bb04173",
   "metadata": {},
   "outputs": [
    {
     "data": {
      "text/html": [
       "<div>\n",
       "<style scoped>\n",
       "    .dataframe tbody tr th:only-of-type {\n",
       "        vertical-align: middle;\n",
       "    }\n",
       "\n",
       "    .dataframe tbody tr th {\n",
       "        vertical-align: top;\n",
       "    }\n",
       "\n",
       "    .dataframe thead th {\n",
       "        text-align: right;\n",
       "    }\n",
       "</style>\n",
       "<table border=\"1\" class=\"dataframe\">\n",
       "  <thead>\n",
       "    <tr style=\"text-align: right;\">\n",
       "      <th></th>\n",
       "      <th>ASIN</th>\n",
       "      <th>Date</th>\n",
       "      <th>Price</th>\n",
       "    </tr>\n",
       "  </thead>\n",
       "  <tbody>\n",
       "    <tr>\n",
       "      <th>241396</th>\n",
       "      <td>B0BLH4R831</td>\n",
       "      <td>2022/11/21</td>\n",
       "      <td>1019.79</td>\n",
       "    </tr>\n",
       "    <tr>\n",
       "      <th>241397</th>\n",
       "      <td>B0BLH4R831</td>\n",
       "      <td>2022/11/21</td>\n",
       "      <td>1015.79</td>\n",
       "    </tr>\n",
       "    <tr>\n",
       "      <th>241398</th>\n",
       "      <td>B0BLH4R831</td>\n",
       "      <td>2022/11/22</td>\n",
       "      <td>1009.79</td>\n",
       "    </tr>\n",
       "    <tr>\n",
       "      <th>241399</th>\n",
       "      <td>B0BLH4R831</td>\n",
       "      <td>2022/11/23</td>\n",
       "      <td>1005.79</td>\n",
       "    </tr>\n",
       "    <tr>\n",
       "      <th>241400</th>\n",
       "      <td>B0BLH4R831</td>\n",
       "      <td>2022/11/24</td>\n",
       "      <td>1269.00</td>\n",
       "    </tr>\n",
       "  </tbody>\n",
       "</table>\n",
       "</div>"
      ],
      "text/plain": [
       "              ASIN        Date    Price\n",
       "241396  B0BLH4R831  2022/11/21  1019.79\n",
       "241397  B0BLH4R831  2022/11/21  1015.79\n",
       "241398  B0BLH4R831  2022/11/22  1009.79\n",
       "241399  B0BLH4R831  2022/11/23  1005.79\n",
       "241400  B0BLH4R831  2022/11/24  1269.00"
      ]
     },
     "execution_count": 171,
     "metadata": {},
     "output_type": "execute_result"
    }
   ],
   "source": [
    "df_game_clean.tail()"
   ]
  },
  {
   "cell_type": "code",
   "execution_count": 172,
   "id": "4f990347",
   "metadata": {},
   "outputs": [
    {
     "data": {
      "text/html": [
       "<div>\n",
       "<style scoped>\n",
       "    .dataframe tbody tr th:only-of-type {\n",
       "        vertical-align: middle;\n",
       "    }\n",
       "\n",
       "    .dataframe tbody tr th {\n",
       "        vertical-align: top;\n",
       "    }\n",
       "\n",
       "    .dataframe thead th {\n",
       "        text-align: right;\n",
       "    }\n",
       "</style>\n",
       "<table border=\"1\" class=\"dataframe\">\n",
       "  <thead>\n",
       "    <tr style=\"text-align: right;\">\n",
       "      <th></th>\n",
       "      <th>ASIN</th>\n",
       "      <th>Date</th>\n",
       "      <th>Price</th>\n",
       "    </tr>\n",
       "  </thead>\n",
       "  <tbody>\n",
       "    <tr>\n",
       "      <th>0</th>\n",
       "      <td>B00ETM09LK</td>\n",
       "      <td>2015/06/25</td>\n",
       "      <td>999.99</td>\n",
       "    </tr>\n",
       "    <tr>\n",
       "      <th>1</th>\n",
       "      <td>B00ETM09LK</td>\n",
       "      <td>2015/06/26</td>\n",
       "      <td>999.00</td>\n",
       "    </tr>\n",
       "    <tr>\n",
       "      <th>2</th>\n",
       "      <td>B00ETM09LK</td>\n",
       "      <td>2015/07/15</td>\n",
       "      <td>998.99</td>\n",
       "    </tr>\n",
       "    <tr>\n",
       "      <th>3</th>\n",
       "      <td>B00ETM09LK</td>\n",
       "      <td>2015/08/16</td>\n",
       "      <td>998.49</td>\n",
       "    </tr>\n",
       "    <tr>\n",
       "      <th>4</th>\n",
       "      <td>B00ETM09LK</td>\n",
       "      <td>2015/08/17</td>\n",
       "      <td>998.19</td>\n",
       "    </tr>\n",
       "    <tr>\n",
       "      <th>...</th>\n",
       "      <td>...</td>\n",
       "      <td>...</td>\n",
       "      <td>...</td>\n",
       "    </tr>\n",
       "    <tr>\n",
       "      <th>241396</th>\n",
       "      <td>B0BLH4R831</td>\n",
       "      <td>2022/11/21</td>\n",
       "      <td>1019.79</td>\n",
       "    </tr>\n",
       "    <tr>\n",
       "      <th>241397</th>\n",
       "      <td>B0BLH4R831</td>\n",
       "      <td>2022/11/21</td>\n",
       "      <td>1015.79</td>\n",
       "    </tr>\n",
       "    <tr>\n",
       "      <th>241398</th>\n",
       "      <td>B0BLH4R831</td>\n",
       "      <td>2022/11/22</td>\n",
       "      <td>1009.79</td>\n",
       "    </tr>\n",
       "    <tr>\n",
       "      <th>241399</th>\n",
       "      <td>B0BLH4R831</td>\n",
       "      <td>2022/11/23</td>\n",
       "      <td>1005.79</td>\n",
       "    </tr>\n",
       "    <tr>\n",
       "      <th>241400</th>\n",
       "      <td>B0BLH4R831</td>\n",
       "      <td>2022/11/24</td>\n",
       "      <td>1269.00</td>\n",
       "    </tr>\n",
       "  </tbody>\n",
       "</table>\n",
       "<p>241401 rows × 3 columns</p>\n",
       "</div>"
      ],
      "text/plain": [
       "              ASIN        Date    Price\n",
       "0       B00ETM09LK  2015/06/25   999.99\n",
       "1       B00ETM09LK  2015/06/26   999.00\n",
       "2       B00ETM09LK  2015/07/15   998.99\n",
       "3       B00ETM09LK  2015/08/16   998.49\n",
       "4       B00ETM09LK  2015/08/17   998.19\n",
       "...            ...         ...      ...\n",
       "241396  B0BLH4R831  2022/11/21  1019.79\n",
       "241397  B0BLH4R831  2022/11/21  1015.79\n",
       "241398  B0BLH4R831  2022/11/22  1009.79\n",
       "241399  B0BLH4R831  2022/11/23  1005.79\n",
       "241400  B0BLH4R831  2022/11/24  1269.00\n",
       "\n",
       "[241401 rows x 3 columns]"
      ]
     },
     "execution_count": 172,
     "metadata": {},
     "output_type": "execute_result"
    }
   ],
   "source": [
    "df_game_clean"
   ]
  },
  {
   "cell_type": "code",
   "execution_count": 173,
   "id": "82a6fcb7",
   "metadata": {},
   "outputs": [
    {
     "data": {
      "text/plain": [
       "ASIN      2873\n",
       "Date      2542\n",
       "Price    64521\n",
       "dtype: int64"
      ]
     },
     "execution_count": 173,
     "metadata": {},
     "output_type": "execute_result"
    }
   ],
   "source": [
    "df_game_clean.nunique()"
   ]
  },
  {
   "cell_type": "code",
   "execution_count": 109,
   "id": "7395190c",
   "metadata": {},
   "outputs": [],
   "source": [
    "\n",
    "with open('df_game_clean.pkd', 'wb') as f:\n",
    "    dill.dump(df_game_clean, f)"
   ]
  },
  {
   "cell_type": "code",
   "execution_count": null,
   "id": "43156529",
   "metadata": {},
   "outputs": [],
   "source": []
  },
  {
   "cell_type": "code",
   "execution_count": null,
   "id": "46d2e736",
   "metadata": {},
   "outputs": [],
   "source": []
  },
  {
   "cell_type": "code",
   "execution_count": null,
   "id": "5b937e9a",
   "metadata": {},
   "outputs": [],
   "source": []
  }
 ],
 "metadata": {
  "kernelspec": {
   "display_name": "Python 3 (ipykernel)",
   "language": "python",
   "name": "python3"
  },
  "language_info": {
   "codemirror_mode": {
    "name": "ipython",
    "version": 3
   },
   "file_extension": ".py",
   "mimetype": "text/x-python",
   "name": "python",
   "nbconvert_exporter": "python",
   "pygments_lexer": "ipython3",
   "version": "3.9.7"
  }
 },
 "nbformat": 4,
 "nbformat_minor": 5
}
