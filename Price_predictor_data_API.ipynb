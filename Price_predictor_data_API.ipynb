{
 "cells": [
  {
   "cell_type": "code",
   "execution_count": 1,
   "id": "893668f1",
   "metadata": {},
   "outputs": [],
   "source": [
    "import keepa"
   ]
  },
  {
   "cell_type": "code",
   "execution_count": 2,
   "id": "7cfdc60f",
   "metadata": {},
   "outputs": [],
   "source": [
    "accesskey = \"##########\""
   ]
  },
  {
   "cell_type": "code",
   "execution_count": 3,
   "id": "c1bf72c5",
   "metadata": {},
   "outputs": [],
   "source": [
    "api = keepa.Keepa(accesskey)"
   ]
  },
  {
   "cell_type": "code",
   "execution_count": 4,
   "id": "e38453b9",
   "metadata": {},
   "outputs": [],
   "source": [
    "import csv"
   ]
  },
  {
   "cell_type": "code",
   "execution_count": 8,
   "id": "97481e3c",
   "metadata": {},
   "outputs": [],
   "source": [
    "gaming_first = []\n",
    "\n",
    "with open('Gaming ASIN Final I.csv', newline='') as inputfile:\n",
    "    for row in csv.reader(inputfile):\n",
    "        gaming_first.append(row[0])\n",
    "        "
   ]
  },
  {
   "cell_type": "code",
   "execution_count": 10,
   "id": "3f5318e2",
   "metadata": {},
   "outputs": [],
   "source": [
    "del gaming_first[0]"
   ]
  },
  {
   "cell_type": "code",
   "execution_count": 12,
   "id": "b2ea171b",
   "metadata": {},
   "outputs": [],
   "source": [
    "gaming_second = []\n",
    "\n",
    "with open('Gaming ASIN Final II.csv', newline='') as inputfile:\n",
    "    for row in csv.reader(inputfile):\n",
    "        gaming_second.append(row[0])"
   ]
  },
  {
   "cell_type": "code",
   "execution_count": 13,
   "id": "aa64d200",
   "metadata": {},
   "outputs": [],
   "source": [
    "del gaming_second[0]"
   ]
  },
  {
   "cell_type": "code",
   "execution_count": 14,
   "id": "589dacb1",
   "metadata": {},
   "outputs": [],
   "source": [
    "gaming_total = gaming_first + gaming_second"
   ]
  },
  {
   "cell_type": "code",
   "execution_count": 15,
   "id": "b715faa9",
   "metadata": {},
   "outputs": [
    {
     "data": {
      "text/plain": [
       "10000"
      ]
     },
     "execution_count": 15,
     "metadata": {},
     "output_type": "execute_result"
    }
   ],
   "source": [
    "len(gaming_total)"
   ]
  },
  {
   "cell_type": "code",
   "execution_count": 16,
   "id": "e3ebc8f6",
   "metadata": {},
   "outputs": [
    {
     "name": "stderr",
     "output_type": "stream",
     "text": [
      " 13%|██████████                                                                   | 1300/10000 [00:59<06:26, 22.50it/s]Waiting 269 seconds for additional tokens\n",
      " 14%|██████████▌                                                                | 1400/10000 [05:33<2:03:09,  1.16it/s]Waiting 296 seconds for additional tokens\n",
      " 15%|███████████▎                                                               | 1500/10000 [10:34<3:33:24,  1.51s/it]Waiting 297 seconds for additional tokens\n",
      " 16%|████████████                                                               | 1600/10000 [15:36<4:34:51,  1.96s/it]Waiting 295 seconds for additional tokens\n",
      " 17%|████████████▊                                                              | 1700/10000 [20:35<5:14:27,  2.27s/it]Waiting 297 seconds for additional tokens\n",
      " 18%|█████████████▌                                                             | 1800/10000 [25:36<5:40:38,  2.49s/it]Waiting 297 seconds for additional tokens\n",
      " 19%|██████████████▎                                                            | 1900/10000 [30:39<5:58:12,  2.65s/it]Waiting 296 seconds for additional tokens\n",
      " 20%|███████████████                                                            | 2000/10000 [35:37<6:06:55,  2.75s/it]Waiting 299 seconds for additional tokens\n",
      " 21%|███████████████▊                                                           | 2100/10000 [40:39<6:13:09,  2.83s/it]Waiting 297 seconds for additional tokens\n",
      " 22%|████████████████▌                                                          | 2200/10000 [45:40<6:15:15,  2.89s/it]Waiting 297 seconds for additional tokens\n",
      " 23%|█████████████████▎                                                         | 2300/10000 [50:41<6:14:58,  2.92s/it]Waiting 298 seconds for additional tokens\n",
      " 24%|██████████████████                                                         | 2400/10000 [55:42<6:13:37,  2.95s/it]Waiting 297 seconds for additional tokens\n",
      " 25%|██████████████████▎                                                      | 2500/10000 [1:00:43<6:10:52,  2.97s/it]Waiting 297 seconds for additional tokens\n",
      " 26%|██████████████████▉                                                      | 2600/10000 [1:05:44<6:07:39,  2.98s/it]Waiting 297 seconds for additional tokens\n",
      " 27%|███████████████████▋                                                     | 2700/10000 [1:10:45<6:03:49,  2.99s/it]Waiting 297 seconds for additional tokens\n",
      " 28%|████████████████████▍                                                    | 2800/10000 [1:15:46<5:59:24,  3.00s/it]Waiting 297 seconds for additional tokens\n",
      " 29%|█████████████████████▏                                                   | 2900/10000 [1:20:47<5:55:02,  3.00s/it]Waiting 297 seconds for additional tokens\n",
      " 30%|█████████████████████▉                                                   | 3000/10000 [1:25:48<5:50:13,  3.00s/it]Waiting 298 seconds for additional tokens\n",
      " 31%|██████████████████████▋                                                  | 3100/10000 [1:30:49<5:45:33,  3.00s/it]Waiting 297 seconds for additional tokens\n",
      " 32%|███████████████████████▎                                                 | 3200/10000 [1:35:50<5:40:40,  3.01s/it]Waiting 298 seconds for additional tokens\n",
      " 33%|████████████████████████                                                 | 3300/10000 [1:40:51<5:35:53,  3.01s/it]Waiting 297 seconds for additional tokens\n",
      " 34%|████████████████████████▊                                                | 3400/10000 [1:45:53<5:31:11,  3.01s/it]Waiting 297 seconds for additional tokens\n",
      " 35%|█████████████████████████▌                                               | 3500/10000 [1:50:54<5:26:07,  3.01s/it]Waiting 297 seconds for additional tokens\n",
      " 36%|██████████████████████████▎                                              | 3600/10000 [1:55:55<5:21:06,  3.01s/it]Waiting 297 seconds for additional tokens\n",
      " 48%|████████████████████████████████████                                       | 4800/10000 [2:57:02<25:34,  3.39it/s]Waiting 242 seconds for additional tokens\n",
      " 49%|███████████████████████████████████▊                                     | 4900/10000 [3:01:08<1:20:12,  1.06it/s]Waiting 297 seconds for additional tokens\n",
      " 50%|████████████████████████████████████▌                                    | 5000/10000 [3:06:10<2:10:32,  1.57s/it]Waiting 296 seconds for additional tokens\n",
      " 51%|█████████████████████████████████████▏                                   | 5100/10000 [3:11:11<2:43:17,  2.00s/it]Waiting 296 seconds for additional tokens\n",
      " 52%|█████████████████████████████████████▉                                   | 5200/10000 [3:16:12<3:04:14,  2.30s/it]Waiting 296 seconds for additional tokens\n",
      " 53%|██████████████████████████████████████▋                                  | 5300/10000 [3:21:12<3:16:50,  2.51s/it]Waiting 297 seconds for additional tokens\n",
      " 54%|███████████████████████████████████████▍                                 | 5400/10000 [3:26:13<3:24:06,  2.66s/it]Waiting 297 seconds for additional tokens\n",
      " 55%|████████████████████████████████████████▏                                | 5500/10000 [3:31:14<3:27:26,  2.77s/it]Waiting 297 seconds for additional tokens\n",
      " 56%|████████████████████████████████████████▉                                | 5600/10000 [3:36:13<3:27:50,  2.83s/it]Waiting 299 seconds for additional tokens\n",
      " 57%|█████████████████████████████████████████▌                               | 5700/10000 [3:41:16<3:27:12,  2.89s/it]Waiting 298 seconds for additional tokens\n",
      " 58%|██████████████████████████████████████████▎                              | 5800/10000 [3:46:19<3:25:22,  2.93s/it]Waiting 295 seconds for additional tokens\n",
      " 59%|███████████████████████████████████████████                              | 5900/10000 [3:51:18<3:21:37,  2.95s/it]Waiting 297 seconds for additional tokens\n",
      " 60%|███████████████████████████████████████████▊                             | 6000/10000 [3:56:23<3:18:40,  2.98s/it]Waiting 293 seconds for additional tokens\n",
      " 61%|████████████████████████████████████████████▌                            | 6100/10000 [4:01:23<3:14:10,  2.99s/it]Waiting 294 seconds for additional tokens\n",
      " 62%|█████████████████████████████████████████████▎                           | 6200/10000 [4:06:23<3:09:18,  2.99s/it]Waiting 296 seconds for additional tokens\n",
      " 63%|█████████████████████████████████████████████▉                           | 6300/10000 [4:11:23<3:04:34,  2.99s/it]Waiting 296 seconds for additional tokens\n",
      " 64%|██████████████████████████████████████████████▋                          | 6400/10000 [4:16:24<2:59:55,  3.00s/it]Waiting 296 seconds for additional tokens\n",
      " 65%|███████████████████████████████████████████████▍                         | 6500/10000 [4:21:24<2:55:00,  3.00s/it]Waiting 297 seconds for additional tokens\n",
      " 66%|████████████████████████████████████████████████▏                        | 6600/10000 [4:26:25<2:50:06,  3.00s/it]Waiting 298 seconds for additional tokens\n",
      " 67%|████████████████████████████████████████████████▉                        | 6700/10000 [4:31:27<2:45:27,  3.01s/it]Waiting 296 seconds for additional tokens\n",
      " 68%|█████████████████████████████████████████████████▋                       | 6800/10000 [4:36:27<2:40:14,  3.00s/it]Waiting 298 seconds for additional tokens\n",
      " 69%|██████████████████████████████████████████████████▎                      | 6900/10000 [4:41:29<2:35:29,  3.01s/it]Waiting 297 seconds for additional tokens\n",
      " 70%|███████████████████████████████████████████████████                      | 7000/10000 [4:46:29<2:30:20,  3.01s/it]Waiting 298 seconds for additional tokens\n",
      " 71%|███████████████████████████████████████████████████▊                     | 7100/10000 [4:51:31<2:25:26,  3.01s/it]Waiting 298 seconds for additional tokens\n",
      " 72%|████████████████████████████████████████████████████▌                    | 7200/10000 [4:56:32<2:20:28,  3.01s/it]Waiting 297 seconds for additional tokens\n",
      " 73%|█████████████████████████████████████████████████████▎                   | 7300/10000 [5:01:34<2:15:34,  3.01s/it]Waiting 297 seconds for additional tokens\n",
      " 74%|██████████████████████████████████████████████████████                   | 7400/10000 [5:06:35<2:10:33,  3.01s/it]Waiting 296 seconds for additional tokens\n"
     ]
    },
    {
     "name": "stderr",
     "output_type": "stream",
     "text": [
      " 75%|██████████████████████████████████████████████████████▊                  | 7500/10000 [5:11:35<2:05:25,  3.01s/it]Waiting 297 seconds for additional tokens\n",
      " 76%|███████████████████████████████████████████████████████▍                 | 7600/10000 [5:16:34<2:00:09,  3.00s/it]Waiting 299 seconds for additional tokens\n",
      " 77%|████████████████████████████████████████████████████████▏                | 7700/10000 [5:21:37<1:55:22,  3.01s/it]Waiting 298 seconds for additional tokens\n",
      " 78%|████████████████████████████████████████████████████████▉                | 7800/10000 [5:26:38<1:50:22,  3.01s/it]Waiting 298 seconds for additional tokens\n",
      " 79%|█████████████████████████████████████████████████████████▋               | 7900/10000 [5:31:54<1:46:54,  3.05s/it]Waiting 283 seconds for additional tokens\n",
      " 80%|██████████████████████████████████████████████████████████▍              | 8000/10000 [5:36:40<1:39:57,  3.00s/it]Waiting 297 seconds for additional tokens\n",
      " 81%|███████████████████████████████████████████████████████████▏             | 8100/10000 [5:41:42<1:35:10,  3.01s/it]Waiting 296 seconds for additional tokens\n",
      " 82%|███████████████████████████████████████████████████████████▊             | 8200/10000 [5:46:42<1:30:03,  3.00s/it]Waiting 298 seconds for additional tokens\n",
      " 83%|████████████████████████████████████████████████████████████▌            | 8300/10000 [5:51:43<1:25:08,  3.01s/it]Waiting 298 seconds for additional tokens\n",
      " 84%|█████████████████████████████████████████████████████████████▎           | 8400/10000 [5:56:44<1:20:09,  3.01s/it]Waiting 298 seconds for additional tokens\n",
      " 85%|██████████████████████████████████████████████████████████████           | 8500/10000 [6:01:46<1:15:14,  3.01s/it]Waiting 297 seconds for additional tokens\n",
      " 86%|██████████████████████████████████████████████████████████████▊          | 8600/10000 [6:06:46<1:10:10,  3.01s/it]Waiting 298 seconds for additional tokens\n",
      " 87%|███████████████████████████████████████████████████████████████▌         | 8700/10000 [6:11:50<1:05:21,  3.02s/it]Waiting 295 seconds for additional tokens\n",
      " 88%|████████████████████████████████████████████████████████████████▏        | 8800/10000 [6:16:49<1:00:12,  3.01s/it]Waiting 297 seconds for additional tokens\n",
      " 89%|██████████████████████████████████████████████████████████████████▊        | 8900/10000 [6:21:50<55:10,  3.01s/it]Waiting 297 seconds for additional tokens\n",
      " 90%|███████████████████████████████████████████████████████████████████▌       | 9000/10000 [6:26:51<50:08,  3.01s/it]Waiting 297 seconds for additional tokens\n",
      " 91%|████████████████████████████████████████████████████████████████████▎      | 9100/10000 [6:31:51<45:07,  3.01s/it]Waiting 298 seconds for additional tokens\n",
      " 92%|█████████████████████████████████████████████████████████████████████      | 9200/10000 [6:36:52<40:05,  3.01s/it]Waiting 298 seconds for additional tokens\n",
      " 93%|█████████████████████████████████████████████████████████████████████▊     | 9300/10000 [6:41:55<35:09,  3.01s/it]Waiting 296 seconds for additional tokens\n",
      " 94%|██████████████████████████████████████████████████████████████████████▌    | 9400/10000 [6:46:54<30:04,  3.01s/it]Waiting 298 seconds for additional tokens\n",
      " 95%|███████████████████████████████████████████████████████████████████████▎   | 9500/10000 [6:51:57<25:06,  3.01s/it]Waiting 297 seconds for additional tokens\n",
      " 96%|████████████████████████████████████████████████████████████████████████   | 9600/10000 [6:56:56<20:03,  3.01s/it]Waiting 298 seconds for additional tokens\n",
      " 97%|████████████████████████████████████████████████████████████████████████▊  | 9700/10000 [7:01:57<15:02,  3.01s/it]Waiting 298 seconds for additional tokens\n",
      " 98%|█████████████████████████████████████████████████████████████████████████▌ | 9800/10000 [7:06:58<10:01,  3.01s/it]Waiting 298 seconds for additional tokens\n",
      " 99%|██████████████████████████████████████████████████████████████████████████▎| 9900/10000 [7:12:00<05:01,  3.01s/it]Waiting 297 seconds for additional tokens\n",
      "100%|██████████████████████████████████████████████████████████████████████████| 10000/10000 [7:17:00<00:00,  2.62s/it]\n"
     ]
    }
   ],
   "source": [
    "gaming_raw = api.query(gaming_total)"
   ]
  },
  {
   "cell_type": "code",
   "execution_count": 17,
   "id": "994266d4",
   "metadata": {},
   "outputs": [],
   "source": [
    "import dill\n",
    "\n",
    "with open('gaming_raw.pkd', 'wb') as f:\n",
    "    dill.dump(gaming_raw, f)"
   ]
  },
  {
   "cell_type": "code",
   "execution_count": null,
   "id": "e9ddc993",
   "metadata": {},
   "outputs": [],
   "source": []
  }
 ],
 "metadata": {
  "kernelspec": {
   "display_name": "Python 3 (ipykernel)",
   "language": "python",
   "name": "python3"
  },
  "language_info": {
   "codemirror_mode": {
    "name": "ipython",
    "version": 3
   },
   "file_extension": ".py",
   "mimetype": "text/x-python",
   "name": "python",
   "nbconvert_exporter": "python",
   "pygments_lexer": "ipython3",
   "version": "3.9.7"
  }
 },
 "nbformat": 4,
 "nbformat_minor": 5
}
